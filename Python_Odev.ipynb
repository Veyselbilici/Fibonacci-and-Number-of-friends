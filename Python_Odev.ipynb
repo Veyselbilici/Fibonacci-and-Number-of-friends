{
 "cells": [
  {
   "cell_type": "markdown",
   "id": "d22abfcb-6f75-4a45-9d6f-26924a1512f1",
   "metadata": {},
   "source": [
    "------FİBONACCİ------"
   ]
  },
  {
   "cell_type": "code",
   "execution_count": 12,
   "id": "f82d7d26-4d44-4758-8e14-1e1e3bad71a1",
   "metadata": {},
   "outputs": [
    {
     "name": "stdin",
     "output_type": "stream",
     "text": [
      "Baslangic:  1\n",
      "Bitis:  2000\n"
     ]
    },
    {
     "name": "stdout",
     "output_type": "stream",
     "text": [
      "1\n",
      "1\n",
      "2\n",
      "3\n",
      "5\n",
      "8\n",
      "13\n",
      "21\n",
      "34\n",
      "55\n",
      "89\n",
      "144\n",
      "233\n",
      "377\n",
      "610\n",
      "987\n",
      "1597\n"
     ]
    }
   ],
   "source": [
    "def Fibonacci(bas, bit):\n",
    "    a, b = 0, 1\n",
    "    sayac=0\n",
    "    while a < bit:\n",
    "        if a >= bas:\n",
    "            print(a)\n",
    "        a, b = b, a + b\n",
    "\n",
    "ilk = int(input(\"Baslangic: \"))\n",
    "while ilk < 0:\n",
    "    ilk = int(input(\"Girilen değer pozitif olmalıdır. Lütfen yeni bir değer giriniz: \"))\n",
    "\n",
    "son = int(input(\"Bitis: \"))\n",
    "while son < 0 or ilk >= son:\n",
    "    if son < 0:\n",
    "        son = int(input(\"Girilen değer pozitif olmalıdır. Lütfen yeni bir değer giriniz: \"))\n",
    "    elif son == ilk:\n",
    "        son = int(input(\"Son değer ilk değere eşit olamaz: \"))\n",
    "    else:\n",
    "         son = int(input(\"Son değer ilk değerden büyük olmalıdır: \"))\n",
    "\n",
    "Fibonacci(ilk, son)\n"
   ]
  },
  {
   "cell_type": "code",
   "execution_count": null,
   "id": "99ee0a90-10bd-417c-9edc-683a9f3ac952",
   "metadata": {},
   "outputs": [],
   "source": []
  },
  {
   "cell_type": "markdown",
   "id": "1a10d16e-a3f5-4118-a6fa-e10126607b43",
   "metadata": {},
   "source": [
    "-------ARKADAŞ SAYI----"
   ]
  },
  {
   "cell_type": "code",
   "execution_count": 18,
   "id": "06109391-5ffc-4958-aae7-45b8ebadb61c",
   "metadata": {},
   "outputs": [
    {
     "name": "stdin",
     "output_type": "stream",
     "text": [
      "İlk sayıyı giriniz:  17296\n",
      "İkinci sayıyı giriniz:  18416\n"
     ]
    },
    {
     "name": "stdout",
     "output_type": "stream",
     "text": [
      "Arkadaş Sayılar\n"
     ]
    }
   ],
   "source": [
    "def Arkadas(x, y):\n",
    "    toplam1 = 0\n",
    "    toplam2 = 0\n",
    "\n",
    "    for i in range(1, x):\n",
    "        if x % i == 0:\n",
    "            toplam1 += i\n",
    "\n",
    "    for j in range(1, y):\n",
    "        if y % j == 0:\n",
    "            toplam2 += j\n",
    "\n",
    "    if toplam1 == y and toplam2 == x:\n",
    "        print('Arkadaş Sayılar')\n",
    "    else:\n",
    "        print('Arkadaş Sayı değiller')\n",
    "\n",
    "sayi1 = int(input('İlk sayıyı giriniz: '))\n",
    "sayi2 = int(input('İkinci sayıyı giriniz: '))\n",
    "Arkadas(sayi1, sayi2)\n"
   ]
  },
  {
   "cell_type": "code",
   "execution_count": null,
   "id": "2039df96-f90b-470f-9e61-668ee5cd6e31",
   "metadata": {},
   "outputs": [],
   "source": []
  }
 ],
 "metadata": {
  "kernelspec": {
   "display_name": "Python 3 (ipykernel)",
   "language": "python",
   "name": "python3"
  },
  "language_info": {
   "codemirror_mode": {
    "name": "ipython",
    "version": 3
   },
   "file_extension": ".py",
   "mimetype": "text/x-python",
   "name": "python",
   "nbconvert_exporter": "python",
   "pygments_lexer": "ipython3",
   "version": "3.11.7"
  }
 },
 "nbformat": 4,
 "nbformat_minor": 5
}
